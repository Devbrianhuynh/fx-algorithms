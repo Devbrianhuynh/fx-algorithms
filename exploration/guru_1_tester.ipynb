{
 "cells": [
  {
   "cell_type": "code",
   "execution_count": null,
   "id": "d45bb3a8",
   "metadata": {},
   "outputs": [],
   "source": [
    "import sys\n",
    "sys.path.append(\"../\")"
   ]
  },
  {
   "cell_type": "code",
   "execution_count": null,
   "id": "2276616b",
   "metadata": {},
   "outputs": [],
   "source": [
    "import pandas as pd\n",
    "import datetime as dt\n",
    "import numpy as np\n",
    "from technicals.indicators import rsi\n",
    "from technicals.patterns import apply_patterns\n",
    "from simulation.guru_tester import GuruTester"
   ]
  },
  {
   "cell_type": "code",
   "execution_count": null,
   "id": "a0d4271d",
   "metadata": {},
   "outputs": [],
   "source": [
    "BUY = 1\n",
    "SELL = -1\n",
    "NONE = 0\n",
    "RSI_LIMIT = 50.0\n",
    "\n",
    "\n",
    "def apply_signal(df):\n",
    "    df['signal'] = np.where(df['engulfing'] == True,\n",
    "                                 np.where((df['direction'] == BUY) & (df['mid_l'] > df['ema_200']) & (df['RSI_14'] > RSI_LIMIT), BUY,\n",
    "                                          np.where((df['direction'] == SELL) & (df['mid_h'] < df['ema_200']) & (df['RSI_14'] < RSI_LIMIT), SELL, NONE)),\n",
    "                                            NONE)\n",
    "    return df['signal']\n",
    "  "
   ]
  },
  {
   "cell_type": "code",
   "execution_count": null,
   "id": "314355c3",
   "metadata": {},
   "outputs": [],
   "source": [
    "def run_pair(pair):\n",
    "    df_an = pd.read_pickle(f\"../data/{pair}_H1.pkl\")\n",
    "    df_m5 = pd.read_pickle(f\"../data/{pair}_M5.pkl\")\n",
    "    \n",
    "    df_an.reset_index(drop=True, inplace=True)\n",
    "    df_m5.reset_index(drop=True, inplace=True)\n",
    "    \n",
    "    df_an = rsi(df_an)\n",
    "    df_an = apply_patterns(df_an)\n",
    "    df_an['ema_200'] = df_an.mid_c.ewm(span=200, min_periods=200).mean()\n",
    "    \n",
    "    our_cols = ['time', 'mid_o', 'mid_h', 'mid_l', 'mid_c',\n",
    "            'bid_o', 'bid_h', 'bid_l', 'bid_c', \n",
    "            'ask_o', 'ask_h', 'ask_l', 'ask_c',\n",
    "            'engulfing', 'direction', 'ema_200', 'RSI_14' ]\n",
    "    \n",
    "    df_slim = df_an[our_cols].copy()\n",
    "    df_slim.dropna(inplace=True)\n",
    "    df_slim.reset_index(drop=True, inplace=True)\n",
    "    \n",
    "    gt = GuruTester(\n",
    "        df_slim,\n",
    "        apply_signal,\n",
    "        df_m5,\n",
    "        use_spread=True\n",
    "    )\n",
    "    \n",
    "    gt.run_test()\n",
    "    return gt.df_results\n",
    "    "
   ]
  },
  {
   "cell_type": "code",
   "execution_count": null,
   "id": "36fab442",
   "metadata": {},
   "outputs": [],
   "source": [
    "results = []\n",
    "for pair in ['USD_CHF']:\n",
    "    results.append(dict(pair=pair, result=run_pair(pair)))"
   ]
  },
  {
   "cell_type": "code",
   "execution_count": null,
   "id": "d9b1f5f0",
   "metadata": {},
   "outputs": [],
   "source": [
    "for result in results:\n",
    "    print(result['pair'], result['result'].result.sum())"
   ]
  }
 ],
 "metadata": {
  "kernelspec": {
   "display_name": "Python 3 (ipykernel)",
   "language": "python",
   "name": "python3"
  },
  "language_info": {
   "codemirror_mode": {
    "name": "ipython",
    "version": 3
   },
   "file_extension": ".py",
   "mimetype": "text/x-python",
   "name": "python",
   "nbconvert_exporter": "python",
   "pygments_lexer": "ipython3",
   "version": "3.12.3"
  }
 },
 "nbformat": 4,
 "nbformat_minor": 5
}
