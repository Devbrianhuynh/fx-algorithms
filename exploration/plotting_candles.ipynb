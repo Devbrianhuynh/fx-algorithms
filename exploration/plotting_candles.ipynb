{
 "cells": [
  {
   "cell_type": "code",
   "execution_count": 2,
   "id": "05cc6f81-9329-4d66-aad8-6dd0d464d55a",
   "metadata": {},
   "outputs": [],
   "source": [
    "import pandas as pd\n",
    "import plotly.graph_objects as go\n",
    "import datetime as dt\n"
   ]
  },
  {
   "cell_type": "code",
   "execution_count": 4,
   "id": "4114886e-74fe-4839-a5e6-84250378b740",
   "metadata": {},
   "outputs": [],
   "source": [
    "pair = 'GBP_USD'\n",
    "granularity = 'H4'\n",
    "df = pd.read_pickle(f'../data/{pair}_{granularity}.pkl')"
   ]
  },
  {
   "cell_type": "code",
   "execution_count": 43,
   "id": "d1480085-6a79-4c31-b12b-d65ae2d34c96",
   "metadata": {},
   "outputs": [
    {
     "data": {
      "text/html": [
       "<div>\n",
       "<style scoped>\n",
       "    .dataframe tbody tr th:only-of-type {\n",
       "        vertical-align: middle;\n",
       "    }\n",
       "\n",
       "    .dataframe tbody tr th {\n",
       "        vertical-align: top;\n",
       "    }\n",
       "\n",
       "    .dataframe thead th {\n",
       "        text-align: right;\n",
       "    }\n",
       "</style>\n",
       "<table border=\"1\" class=\"dataframe\">\n",
       "  <thead>\n",
       "    <tr style=\"text-align: right;\">\n",
       "      <th></th>\n",
       "      <th>time</th>\n",
       "      <th>volume</th>\n",
       "      <th>mid_o</th>\n",
       "      <th>mid_h</th>\n",
       "      <th>mid_l</th>\n",
       "      <th>mid_c</th>\n",
       "      <th>bid_o</th>\n",
       "      <th>bid_h</th>\n",
       "      <th>bid_l</th>\n",
       "      <th>bid_c</th>\n",
       "      <th>ask_o</th>\n",
       "      <th>ask_h</th>\n",
       "      <th>ask_l</th>\n",
       "      <th>ask_c</th>\n",
       "      <th>s_time</th>\n",
       "    </tr>\n",
       "  </thead>\n",
       "  <tbody>\n",
       "    <tr>\n",
       "      <th>4994</th>\n",
       "      <td>2024-05-28 05:00:00+00:00</td>\n",
       "      <td>13138</td>\n",
       "      <td>1.27747</td>\n",
       "      <td>1.27812</td>\n",
       "      <td>1.27626</td>\n",
       "      <td>1.27690</td>\n",
       "      <td>1.27738</td>\n",
       "      <td>1.27804</td>\n",
       "      <td>1.27618</td>\n",
       "      <td>1.27681</td>\n",
       "      <td>1.27756</td>\n",
       "      <td>1.27820</td>\n",
       "      <td>1.27634</td>\n",
       "      <td>1.27698</td>\n",
       "      <td>s24-05-28 05:00</td>\n",
       "    </tr>\n",
       "    <tr>\n",
       "      <th>4995</th>\n",
       "      <td>2024-05-28 09:00:00+00:00</td>\n",
       "      <td>14400</td>\n",
       "      <td>1.27689</td>\n",
       "      <td>1.27948</td>\n",
       "      <td>1.27638</td>\n",
       "      <td>1.27924</td>\n",
       "      <td>1.27681</td>\n",
       "      <td>1.27938</td>\n",
       "      <td>1.27628</td>\n",
       "      <td>1.27916</td>\n",
       "      <td>1.27697</td>\n",
       "      <td>1.27957</td>\n",
       "      <td>1.27647</td>\n",
       "      <td>1.27931</td>\n",
       "      <td>s24-05-28 09:00</td>\n",
       "    </tr>\n",
       "    <tr>\n",
       "      <th>4996</th>\n",
       "      <td>2024-05-28 13:00:00+00:00</td>\n",
       "      <td>17628</td>\n",
       "      <td>1.27922</td>\n",
       "      <td>1.28008</td>\n",
       "      <td>1.27708</td>\n",
       "      <td>1.27766</td>\n",
       "      <td>1.27914</td>\n",
       "      <td>1.28001</td>\n",
       "      <td>1.27700</td>\n",
       "      <td>1.27758</td>\n",
       "      <td>1.27931</td>\n",
       "      <td>1.28016</td>\n",
       "      <td>1.27715</td>\n",
       "      <td>1.27774</td>\n",
       "      <td>s24-05-28 13:00</td>\n",
       "    </tr>\n",
       "    <tr>\n",
       "      <th>4997</th>\n",
       "      <td>2024-05-28 17:00:00+00:00</td>\n",
       "      <td>12899</td>\n",
       "      <td>1.27766</td>\n",
       "      <td>1.27782</td>\n",
       "      <td>1.27541</td>\n",
       "      <td>1.27619</td>\n",
       "      <td>1.27758</td>\n",
       "      <td>1.27773</td>\n",
       "      <td>1.27532</td>\n",
       "      <td>1.27610</td>\n",
       "      <td>1.27773</td>\n",
       "      <td>1.27790</td>\n",
       "      <td>1.27550</td>\n",
       "      <td>1.27628</td>\n",
       "      <td>s24-05-28 17:00</td>\n",
       "    </tr>\n",
       "    <tr>\n",
       "      <th>4998</th>\n",
       "      <td>2024-05-28 21:00:00+00:00</td>\n",
       "      <td>7012</td>\n",
       "      <td>1.27602</td>\n",
       "      <td>1.27660</td>\n",
       "      <td>1.27522</td>\n",
       "      <td>1.27542</td>\n",
       "      <td>1.27565</td>\n",
       "      <td>1.27632</td>\n",
       "      <td>1.27495</td>\n",
       "      <td>1.27534</td>\n",
       "      <td>1.27640</td>\n",
       "      <td>1.27731</td>\n",
       "      <td>1.27529</td>\n",
       "      <td>1.27549</td>\n",
       "      <td>s24-05-28 21:00</td>\n",
       "    </tr>\n",
       "  </tbody>\n",
       "</table>\n",
       "</div>"
      ],
      "text/plain": [
       "                          time  volume    mid_o    mid_h    mid_l    mid_c  \\\n",
       "4994 2024-05-28 05:00:00+00:00   13138  1.27747  1.27812  1.27626  1.27690   \n",
       "4995 2024-05-28 09:00:00+00:00   14400  1.27689  1.27948  1.27638  1.27924   \n",
       "4996 2024-05-28 13:00:00+00:00   17628  1.27922  1.28008  1.27708  1.27766   \n",
       "4997 2024-05-28 17:00:00+00:00   12899  1.27766  1.27782  1.27541  1.27619   \n",
       "4998 2024-05-28 21:00:00+00:00    7012  1.27602  1.27660  1.27522  1.27542   \n",
       "\n",
       "        bid_o    bid_h    bid_l    bid_c    ask_o    ask_h    ask_l    ask_c  \\\n",
       "4994  1.27738  1.27804  1.27618  1.27681  1.27756  1.27820  1.27634  1.27698   \n",
       "4995  1.27681  1.27938  1.27628  1.27916  1.27697  1.27957  1.27647  1.27931   \n",
       "4996  1.27914  1.28001  1.27700  1.27758  1.27931  1.28016  1.27715  1.27774   \n",
       "4997  1.27758  1.27773  1.27532  1.27610  1.27773  1.27790  1.27550  1.27628   \n",
       "4998  1.27565  1.27632  1.27495  1.27534  1.27640  1.27731  1.27529  1.27549   \n",
       "\n",
       "               s_time  \n",
       "4994  s24-05-28 05:00  \n",
       "4995  s24-05-28 09:00  \n",
       "4996  s24-05-28 13:00  \n",
       "4997  s24-05-28 17:00  \n",
       "4998  s24-05-28 21:00  "
      ]
     },
     "execution_count": 43,
     "metadata": {},
     "output_type": "execute_result"
    }
   ],
   "source": [
    "df.tail()"
   ]
  },
  {
   "cell_type": "code",
   "execution_count": 42,
   "id": "139cb2cf-77c4-4739-b977-d3cb2fe13df6",
   "metadata": {},
   "outputs": [],
   "source": [
    "df['s_time'] = [dt.datetime.strftime(t, 's%y-%m-%d %H:%M') for t in df['time']]"
   ]
  },
  {
   "cell_type": "code",
   "execution_count": 44,
   "id": "194d05a7-19d2-453d-969a-f43398decca2",
   "metadata": {},
   "outputs": [],
   "source": [
    "plot_df = df.iloc[:100]"
   ]
  },
  {
   "cell_type": "code",
   "execution_count": 47,
   "id": "aeec7719-e37b-40fb-8dcd-a8db850ce0c6",
   "metadata": {},
   "outputs": [
    {
     "data": {
      "application/vnd.plotly.v1+json": {
       "config": {
        "plotlyServerURL": "https://plot.ly"
       },
       "data": [
        {
         "close": [
          1.38846,
          1.38712,
          1.3819,
          1.38758,
          1.38906,
          1.38909,
          1.38938,
          1.38934,
          1.3898,
          1.39078,
          1.3875,
          1.3964,
          1.39693,
          1.39522,
          1.39562,
          1.39445,
          1.39324,
          1.39237,
          1.39074,
          1.39223,
          1.39514,
          1.389,
          1.38734,
          1.38692,
          1.38295,
          1.38486,
          1.38653,
          1.38457,
          1.3859,
          1.38636,
          1.38502,
          1.38341,
          1.3811,
          1.3793,
          1.37738,
          1.37521,
          1.37343,
          1.37126,
          1.3694,
          1.37174,
          1.3719,
          1.36871,
          1.36971,
          1.36986,
          1.36834,
          1.37079,
          1.37323,
          1.37339,
          1.37504,
          1.37585,
          1.37686,
          1.37674,
          1.37888,
          1.37925,
          1.37748,
          1.37731,
          1.381,
          1.38227,
          1.37778,
          1.37624,
          1.37688,
          1.37812,
          1.37726,
          1.3739,
          1.37187,
          1.37411,
          1.37432,
          1.37265,
          1.37828,
          1.37678,
          1.38002,
          1.37828,
          1.37886,
          1.37674,
          1.3776,
          1.37914,
          1.38187,
          1.38333,
          1.38418,
          1.38456,
          1.38358,
          1.38338,
          1.38215,
          1.38354,
          1.38294,
          1.38275,
          1.38618,
          1.3877,
          1.39024,
          1.39015,
          1.39034,
          1.39058,
          1.38545,
          1.38402,
          1.38218,
          1.38246,
          1.38338,
          1.38306,
          1.38308,
          1.37614
         ],
         "decreasing": {
          "fillcolor": "#cc2e3c",
          "line": {
           "color": "#ff3a4c"
          }
         },
         "high": [
          1.39059,
          1.38943,
          1.38756,
          1.38828,
          1.39011,
          1.39061,
          1.39056,
          1.38982,
          1.39296,
          1.3924,
          1.3912,
          1.39712,
          1.39776,
          1.39722,
          1.40014,
          1.3994,
          1.39526,
          1.39514,
          1.39338,
          1.39258,
          1.39568,
          1.39592,
          1.38898,
          1.38863,
          1.38474,
          1.38542,
          1.3872,
          1.38769,
          1.38656,
          1.38715,
          1.38665,
          1.3854,
          1.3853,
          1.38138,
          1.38006,
          1.37805,
          1.37593,
          1.37396,
          1.37226,
          1.37331,
          1.37334,
          1.37214,
          1.36974,
          1.37084,
          1.37044,
          1.3731,
          1.37414,
          1.37456,
          1.37578,
          1.37657,
          1.37863,
          1.37916,
          1.38124,
          1.37998,
          1.38056,
          1.37898,
          1.38372,
          1.38468,
          1.38378,
          1.37816,
          1.37763,
          1.37814,
          1.37836,
          1.37792,
          1.37548,
          1.37425,
          1.37522,
          1.3746,
          1.37834,
          1.3795,
          1.3812,
          1.38086,
          1.37902,
          1.37907,
          1.37962,
          1.37958,
          1.38365,
          1.38361,
          1.38456,
          1.38502,
          1.38525,
          1.38426,
          1.38339,
          1.38426,
          1.38359,
          1.38429,
          1.38687,
          1.38802,
          1.39136,
          1.39076,
          1.39156,
          1.39082,
          1.39188,
          1.38589,
          1.38663,
          1.38346,
          1.38349,
          1.384,
          1.38318,
          1.3838
         ],
         "increasing": {
          "fillcolor": "#24a06b",
          "line": {
           "color": "#2ec886"
          }
         },
         "line": {
          "width": 1
         },
         "low": [
          1.38836,
          1.38657,
          1.3816,
          1.3809,
          1.38695,
          1.38882,
          1.38887,
          1.38786,
          1.38782,
          1.38868,
          1.38672,
          1.38512,
          1.39507,
          1.39356,
          1.39455,
          1.39216,
          1.38976,
          1.39151,
          1.39012,
          1.38924,
          1.39064,
          1.38786,
          1.38304,
          1.38589,
          1.38275,
          1.38179,
          1.38364,
          1.38404,
          1.38211,
          1.38544,
          1.38446,
          1.38336,
          1.3802,
          1.37517,
          1.3769,
          1.37407,
          1.3724,
          1.37042,
          1.36741,
          1.36908,
          1.36962,
          1.368,
          1.36798,
          1.36796,
          1.36706,
          1.36787,
          1.3706,
          1.37248,
          1.37308,
          1.37465,
          1.37423,
          1.37514,
          1.37666,
          1.37761,
          1.3771,
          1.37658,
          1.37566,
          1.38077,
          1.37648,
          1.37556,
          1.3759,
          1.37602,
          1.37422,
          1.37301,
          1.37062,
          1.37136,
          1.37344,
          1.37186,
          1.37166,
          1.37546,
          1.37595,
          1.37766,
          1.37747,
          1.37653,
          1.3746,
          1.37585,
          1.3791,
          1.38179,
          1.38312,
          1.38339,
          1.3833,
          1.38128,
          1.38143,
          1.38159,
          1.38178,
          1.38266,
          1.38132,
          1.38534,
          1.38734,
          1.38994,
          1.38978,
          1.38897,
          1.38389,
          1.38178,
          1.38198,
          1.38022,
          1.382,
          1.382,
          1.37726,
          1.3756
         ],
         "opacity": 1,
         "open": [
          1.39001,
          1.38844,
          1.3871,
          1.38192,
          1.38756,
          1.38908,
          1.38917,
          1.38934,
          1.38931,
          1.38982,
          1.39076,
          1.38753,
          1.39663,
          1.39696,
          1.3952,
          1.39566,
          1.39442,
          1.39327,
          1.39296,
          1.3907,
          1.3922,
          1.39512,
          1.38896,
          1.38732,
          1.38384,
          1.38292,
          1.38482,
          1.38658,
          1.38453,
          1.38592,
          1.38636,
          1.385,
          1.38339,
          1.38108,
          1.37932,
          1.37736,
          1.37531,
          1.37345,
          1.37124,
          1.36942,
          1.37172,
          1.37187,
          1.36871,
          1.36974,
          1.36988,
          1.36831,
          1.37076,
          1.3732,
          1.37331,
          1.37502,
          1.37588,
          1.37683,
          1.37672,
          1.3789,
          1.37956,
          1.3775,
          1.37733,
          1.38103,
          1.38225,
          1.37782,
          1.37652,
          1.3769,
          1.37814,
          1.37723,
          1.37387,
          1.37184,
          1.37344,
          1.37434,
          1.37262,
          1.37824,
          1.37676,
          1.38,
          1.37803,
          1.37888,
          1.37671,
          1.37762,
          1.37917,
          1.3819,
          1.38326,
          1.38416,
          1.38458,
          1.38354,
          1.38336,
          1.38218,
          1.3826,
          1.38291,
          1.38272,
          1.38616,
          1.38772,
          1.39028,
          1.38996,
          1.39031,
          1.39056,
          1.38543,
          1.38404,
          1.38216,
          1.38222,
          1.3834,
          1.38308,
          1.38304
         ],
         "type": "candlestick",
         "x": [
          "s21-03-15 21:00",
          "s21-03-16 01:00",
          "s21-03-16 05:00",
          "s21-03-16 09:00",
          "s21-03-16 13:00",
          "s21-03-16 17:00",
          "s21-03-16 21:00",
          "s21-03-17 01:00",
          "s21-03-17 05:00",
          "s21-03-17 09:00",
          "s21-03-17 13:00",
          "s21-03-17 17:00",
          "s21-03-17 21:00",
          "s21-03-18 01:00",
          "s21-03-18 05:00",
          "s21-03-18 09:00",
          "s21-03-18 13:00",
          "s21-03-18 17:00",
          "s21-03-18 21:00",
          "s21-03-19 01:00",
          "s21-03-19 05:00",
          "s21-03-19 09:00",
          "s21-03-19 13:00",
          "s21-03-19 17:00",
          "s21-03-21 21:00",
          "s21-03-22 01:00",
          "s21-03-22 05:00",
          "s21-03-22 09:00",
          "s21-03-22 13:00",
          "s21-03-22 17:00",
          "s21-03-22 21:00",
          "s21-03-23 01:00",
          "s21-03-23 05:00",
          "s21-03-23 09:00",
          "s21-03-23 13:00",
          "s21-03-23 17:00",
          "s21-03-23 21:00",
          "s21-03-24 01:00",
          "s21-03-24 05:00",
          "s21-03-24 09:00",
          "s21-03-24 13:00",
          "s21-03-24 17:00",
          "s21-03-24 21:00",
          "s21-03-25 01:00",
          "s21-03-25 05:00",
          "s21-03-25 09:00",
          "s21-03-25 13:00",
          "s21-03-25 17:00",
          "s21-03-25 21:00",
          "s21-03-26 01:00",
          "s21-03-26 05:00",
          "s21-03-26 09:00",
          "s21-03-26 13:00",
          "s21-03-26 17:00",
          "s21-03-28 21:00",
          "s21-03-29 01:00",
          "s21-03-29 05:00",
          "s21-03-29 09:00",
          "s21-03-29 13:00",
          "s21-03-29 17:00",
          "s21-03-29 21:00",
          "s21-03-30 01:00",
          "s21-03-30 05:00",
          "s21-03-30 09:00",
          "s21-03-30 13:00",
          "s21-03-30 17:00",
          "s21-03-30 21:00",
          "s21-03-31 01:00",
          "s21-03-31 05:00",
          "s21-03-31 09:00",
          "s21-03-31 13:00",
          "s21-03-31 17:00",
          "s21-03-31 21:00",
          "s21-04-01 01:00",
          "s21-04-01 05:00",
          "s21-04-01 09:00",
          "s21-04-01 13:00",
          "s21-04-01 17:00",
          "s21-04-01 21:00",
          "s21-04-02 01:00",
          "s21-04-02 05:00",
          "s21-04-02 09:00",
          "s21-04-02 13:00",
          "s21-04-02 17:00",
          "s21-04-04 21:00",
          "s21-04-05 01:00",
          "s21-04-05 05:00",
          "s21-04-05 09:00",
          "s21-04-05 13:00",
          "s21-04-05 17:00",
          "s21-04-05 21:00",
          "s21-04-06 01:00",
          "s21-04-06 05:00",
          "s21-04-06 09:00",
          "s21-04-06 13:00",
          "s21-04-06 17:00",
          "s21-04-06 21:00",
          "s21-04-07 01:00",
          "s21-04-07 05:00",
          "s21-04-07 09:00"
         ]
        }
       ],
       "layout": {
        "dragmode": "pan",
        "font": {
         "color": "#e1e1e1",
         "size": 10
        },
        "height": 600,
        "margin": {
         "b": 20,
         "l": 10,
         "r": 10,
         "t": 20
        },
        "paper_bgcolor": "#010114",
        "plot_bgcolor": "#010114",
        "template": {
         "data": {
          "bar": [
           {
            "error_x": {
             "color": "#2a3f5f"
            },
            "error_y": {
             "color": "#2a3f5f"
            },
            "marker": {
             "line": {
              "color": "#E5ECF6",
              "width": 0.5
             },
             "pattern": {
              "fillmode": "overlay",
              "size": 10,
              "solidity": 0.2
             }
            },
            "type": "bar"
           }
          ],
          "barpolar": [
           {
            "marker": {
             "line": {
              "color": "#E5ECF6",
              "width": 0.5
             },
             "pattern": {
              "fillmode": "overlay",
              "size": 10,
              "solidity": 0.2
             }
            },
            "type": "barpolar"
           }
          ],
          "carpet": [
           {
            "aaxis": {
             "endlinecolor": "#2a3f5f",
             "gridcolor": "white",
             "linecolor": "white",
             "minorgridcolor": "white",
             "startlinecolor": "#2a3f5f"
            },
            "baxis": {
             "endlinecolor": "#2a3f5f",
             "gridcolor": "white",
             "linecolor": "white",
             "minorgridcolor": "white",
             "startlinecolor": "#2a3f5f"
            },
            "type": "carpet"
           }
          ],
          "choropleth": [
           {
            "colorbar": {
             "outlinewidth": 0,
             "ticks": ""
            },
            "type": "choropleth"
           }
          ],
          "contour": [
           {
            "colorbar": {
             "outlinewidth": 0,
             "ticks": ""
            },
            "colorscale": [
             [
              0,
              "#0d0887"
             ],
             [
              0.1111111111111111,
              "#46039f"
             ],
             [
              0.2222222222222222,
              "#7201a8"
             ],
             [
              0.3333333333333333,
              "#9c179e"
             ],
             [
              0.4444444444444444,
              "#bd3786"
             ],
             [
              0.5555555555555556,
              "#d8576b"
             ],
             [
              0.6666666666666666,
              "#ed7953"
             ],
             [
              0.7777777777777778,
              "#fb9f3a"
             ],
             [
              0.8888888888888888,
              "#fdca26"
             ],
             [
              1,
              "#f0f921"
             ]
            ],
            "type": "contour"
           }
          ],
          "contourcarpet": [
           {
            "colorbar": {
             "outlinewidth": 0,
             "ticks": ""
            },
            "type": "contourcarpet"
           }
          ],
          "heatmap": [
           {
            "colorbar": {
             "outlinewidth": 0,
             "ticks": ""
            },
            "colorscale": [
             [
              0,
              "#0d0887"
             ],
             [
              0.1111111111111111,
              "#46039f"
             ],
             [
              0.2222222222222222,
              "#7201a8"
             ],
             [
              0.3333333333333333,
              "#9c179e"
             ],
             [
              0.4444444444444444,
              "#bd3786"
             ],
             [
              0.5555555555555556,
              "#d8576b"
             ],
             [
              0.6666666666666666,
              "#ed7953"
             ],
             [
              0.7777777777777778,
              "#fb9f3a"
             ],
             [
              0.8888888888888888,
              "#fdca26"
             ],
             [
              1,
              "#f0f921"
             ]
            ],
            "type": "heatmap"
           }
          ],
          "heatmapgl": [
           {
            "colorbar": {
             "outlinewidth": 0,
             "ticks": ""
            },
            "colorscale": [
             [
              0,
              "#0d0887"
             ],
             [
              0.1111111111111111,
              "#46039f"
             ],
             [
              0.2222222222222222,
              "#7201a8"
             ],
             [
              0.3333333333333333,
              "#9c179e"
             ],
             [
              0.4444444444444444,
              "#bd3786"
             ],
             [
              0.5555555555555556,
              "#d8576b"
             ],
             [
              0.6666666666666666,
              "#ed7953"
             ],
             [
              0.7777777777777778,
              "#fb9f3a"
             ],
             [
              0.8888888888888888,
              "#fdca26"
             ],
             [
              1,
              "#f0f921"
             ]
            ],
            "type": "heatmapgl"
           }
          ],
          "histogram": [
           {
            "marker": {
             "pattern": {
              "fillmode": "overlay",
              "size": 10,
              "solidity": 0.2
             }
            },
            "type": "histogram"
           }
          ],
          "histogram2d": [
           {
            "colorbar": {
             "outlinewidth": 0,
             "ticks": ""
            },
            "colorscale": [
             [
              0,
              "#0d0887"
             ],
             [
              0.1111111111111111,
              "#46039f"
             ],
             [
              0.2222222222222222,
              "#7201a8"
             ],
             [
              0.3333333333333333,
              "#9c179e"
             ],
             [
              0.4444444444444444,
              "#bd3786"
             ],
             [
              0.5555555555555556,
              "#d8576b"
             ],
             [
              0.6666666666666666,
              "#ed7953"
             ],
             [
              0.7777777777777778,
              "#fb9f3a"
             ],
             [
              0.8888888888888888,
              "#fdca26"
             ],
             [
              1,
              "#f0f921"
             ]
            ],
            "type": "histogram2d"
           }
          ],
          "histogram2dcontour": [
           {
            "colorbar": {
             "outlinewidth": 0,
             "ticks": ""
            },
            "colorscale": [
             [
              0,
              "#0d0887"
             ],
             [
              0.1111111111111111,
              "#46039f"
             ],
             [
              0.2222222222222222,
              "#7201a8"
             ],
             [
              0.3333333333333333,
              "#9c179e"
             ],
             [
              0.4444444444444444,
              "#bd3786"
             ],
             [
              0.5555555555555556,
              "#d8576b"
             ],
             [
              0.6666666666666666,
              "#ed7953"
             ],
             [
              0.7777777777777778,
              "#fb9f3a"
             ],
             [
              0.8888888888888888,
              "#fdca26"
             ],
             [
              1,
              "#f0f921"
             ]
            ],
            "type": "histogram2dcontour"
           }
          ],
          "mesh3d": [
           {
            "colorbar": {
             "outlinewidth": 0,
             "ticks": ""
            },
            "type": "mesh3d"
           }
          ],
          "parcoords": [
           {
            "line": {
             "colorbar": {
              "outlinewidth": 0,
              "ticks": ""
             }
            },
            "type": "parcoords"
           }
          ],
          "pie": [
           {
            "automargin": true,
            "type": "pie"
           }
          ],
          "scatter": [
           {
            "fillpattern": {
             "fillmode": "overlay",
             "size": 10,
             "solidity": 0.2
            },
            "type": "scatter"
           }
          ],
          "scatter3d": [
           {
            "line": {
             "colorbar": {
              "outlinewidth": 0,
              "ticks": ""
             }
            },
            "marker": {
             "colorbar": {
              "outlinewidth": 0,
              "ticks": ""
             }
            },
            "type": "scatter3d"
           }
          ],
          "scattercarpet": [
           {
            "marker": {
             "colorbar": {
              "outlinewidth": 0,
              "ticks": ""
             }
            },
            "type": "scattercarpet"
           }
          ],
          "scattergeo": [
           {
            "marker": {
             "colorbar": {
              "outlinewidth": 0,
              "ticks": ""
             }
            },
            "type": "scattergeo"
           }
          ],
          "scattergl": [
           {
            "marker": {
             "colorbar": {
              "outlinewidth": 0,
              "ticks": ""
             }
            },
            "type": "scattergl"
           }
          ],
          "scattermapbox": [
           {
            "marker": {
             "colorbar": {
              "outlinewidth": 0,
              "ticks": ""
             }
            },
            "type": "scattermapbox"
           }
          ],
          "scatterpolar": [
           {
            "marker": {
             "colorbar": {
              "outlinewidth": 0,
              "ticks": ""
             }
            },
            "type": "scatterpolar"
           }
          ],
          "scatterpolargl": [
           {
            "marker": {
             "colorbar": {
              "outlinewidth": 0,
              "ticks": ""
             }
            },
            "type": "scatterpolargl"
           }
          ],
          "scatterternary": [
           {
            "marker": {
             "colorbar": {
              "outlinewidth": 0,
              "ticks": ""
             }
            },
            "type": "scatterternary"
           }
          ],
          "surface": [
           {
            "colorbar": {
             "outlinewidth": 0,
             "ticks": ""
            },
            "colorscale": [
             [
              0,
              "#0d0887"
             ],
             [
              0.1111111111111111,
              "#46039f"
             ],
             [
              0.2222222222222222,
              "#7201a8"
             ],
             [
              0.3333333333333333,
              "#9c179e"
             ],
             [
              0.4444444444444444,
              "#bd3786"
             ],
             [
              0.5555555555555556,
              "#d8576b"
             ],
             [
              0.6666666666666666,
              "#ed7953"
             ],
             [
              0.7777777777777778,
              "#fb9f3a"
             ],
             [
              0.8888888888888888,
              "#fdca26"
             ],
             [
              1,
              "#f0f921"
             ]
            ],
            "type": "surface"
           }
          ],
          "table": [
           {
            "cells": {
             "fill": {
              "color": "#EBF0F8"
             },
             "line": {
              "color": "white"
             }
            },
            "header": {
             "fill": {
              "color": "#C8D4E3"
             },
             "line": {
              "color": "white"
             }
            },
            "type": "table"
           }
          ]
         },
         "layout": {
          "annotationdefaults": {
           "arrowcolor": "#2a3f5f",
           "arrowhead": 0,
           "arrowwidth": 1
          },
          "autotypenumbers": "strict",
          "coloraxis": {
           "colorbar": {
            "outlinewidth": 0,
            "ticks": ""
           }
          },
          "colorscale": {
           "diverging": [
            [
             0,
             "#8e0152"
            ],
            [
             0.1,
             "#c51b7d"
            ],
            [
             0.2,
             "#de77ae"
            ],
            [
             0.3,
             "#f1b6da"
            ],
            [
             0.4,
             "#fde0ef"
            ],
            [
             0.5,
             "#f7f7f7"
            ],
            [
             0.6,
             "#e6f5d0"
            ],
            [
             0.7,
             "#b8e186"
            ],
            [
             0.8,
             "#7fbc41"
            ],
            [
             0.9,
             "#4d9221"
            ],
            [
             1,
             "#276419"
            ]
           ],
           "sequential": [
            [
             0,
             "#0d0887"
            ],
            [
             0.1111111111111111,
             "#46039f"
            ],
            [
             0.2222222222222222,
             "#7201a8"
            ],
            [
             0.3333333333333333,
             "#9c179e"
            ],
            [
             0.4444444444444444,
             "#bd3786"
            ],
            [
             0.5555555555555556,
             "#d8576b"
            ],
            [
             0.6666666666666666,
             "#ed7953"
            ],
            [
             0.7777777777777778,
             "#fb9f3a"
            ],
            [
             0.8888888888888888,
             "#fdca26"
            ],
            [
             1,
             "#f0f921"
            ]
           ],
           "sequentialminus": [
            [
             0,
             "#0d0887"
            ],
            [
             0.1111111111111111,
             "#46039f"
            ],
            [
             0.2222222222222222,
             "#7201a8"
            ],
            [
             0.3333333333333333,
             "#9c179e"
            ],
            [
             0.4444444444444444,
             "#bd3786"
            ],
            [
             0.5555555555555556,
             "#d8576b"
            ],
            [
             0.6666666666666666,
             "#ed7953"
            ],
            [
             0.7777777777777778,
             "#fb9f3a"
            ],
            [
             0.8888888888888888,
             "#fdca26"
            ],
            [
             1,
             "#f0f921"
            ]
           ]
          },
          "colorway": [
           "#636efa",
           "#EF553B",
           "#00cc96",
           "#ab63fa",
           "#FFA15A",
           "#19d3f3",
           "#FF6692",
           "#B6E880",
           "#FF97FF",
           "#FECB52"
          ],
          "font": {
           "color": "#2a3f5f"
          },
          "geo": {
           "bgcolor": "white",
           "lakecolor": "white",
           "landcolor": "#E5ECF6",
           "showlakes": true,
           "showland": true,
           "subunitcolor": "white"
          },
          "hoverlabel": {
           "align": "left"
          },
          "hovermode": "closest",
          "mapbox": {
           "style": "light"
          },
          "paper_bgcolor": "white",
          "plot_bgcolor": "#E5ECF6",
          "polar": {
           "angularaxis": {
            "gridcolor": "white",
            "linecolor": "white",
            "ticks": ""
           },
           "bgcolor": "#E5ECF6",
           "radialaxis": {
            "gridcolor": "white",
            "linecolor": "white",
            "ticks": ""
           }
          },
          "scene": {
           "xaxis": {
            "backgroundcolor": "#E5ECF6",
            "gridcolor": "white",
            "gridwidth": 2,
            "linecolor": "white",
            "showbackground": true,
            "ticks": "",
            "zerolinecolor": "white"
           },
           "yaxis": {
            "backgroundcolor": "#E5ECF6",
            "gridcolor": "white",
            "gridwidth": 2,
            "linecolor": "white",
            "showbackground": true,
            "ticks": "",
            "zerolinecolor": "white"
           },
           "zaxis": {
            "backgroundcolor": "#E5ECF6",
            "gridcolor": "white",
            "gridwidth": 2,
            "linecolor": "white",
            "showbackground": true,
            "ticks": "",
            "zerolinecolor": "white"
           }
          },
          "shapedefaults": {
           "line": {
            "color": "#2a3f5f"
           }
          },
          "ternary": {
           "aaxis": {
            "gridcolor": "white",
            "linecolor": "white",
            "ticks": ""
           },
           "baxis": {
            "gridcolor": "white",
            "linecolor": "white",
            "ticks": ""
           },
           "bgcolor": "#E5ECF6",
           "caxis": {
            "gridcolor": "white",
            "linecolor": "white",
            "ticks": ""
           }
          },
          "title": {
           "x": 0.05
          },
          "xaxis": {
           "automargin": true,
           "gridcolor": "white",
           "linecolor": "white",
           "ticks": "",
           "title": {
            "standoff": 15
           },
           "zerolinecolor": "white",
           "zerolinewidth": 2
          },
          "yaxis": {
           "automargin": true,
           "gridcolor": "white",
           "linecolor": "white",
           "ticks": "",
           "title": {
            "standoff": 15
           },
           "zerolinecolor": "white",
           "zerolinewidth": 2
          }
         }
        },
        "width": 1000,
        "xaxis": {
         "autorange": false,
         "gridcolor": "#1f292f",
         "nticks": 7,
         "range": [
          14.026315789473685,
          64.02631578947368
         ],
         "rangeslider": {
          "visible": false,
          "yaxis": {}
         },
         "type": "category"
        },
        "yaxis": {
         "autorange": false,
         "gridcolor": "#1f292f",
         "range": [
          1.3738172152403743,
          1.3921949930181525
         ]
        }
       }
      },
      "image/png": "[encoded data removed]",
      "text/html": [
       "<div>                            <div id=\"74a65e64-f132-45b0-b1fc-647cd68b26cc\" class=\"plotly-graph-div\" style=\"height:600px; width:1000px;\"></div>            <script type=\"text/javascript\">                require([\"plotly\"], function(Plotly) {                    window.PLOTLYENV=window.PLOTLYENV || {};                                    if (document.getElementById(\"74a65e64-f132-45b0-b1fc-647cd68b26cc\")) {                    Plotly.newPlot(                        \"74a65e64-f132-45b0-b1fc-647cd68b26cc\",                        [{\"close\":[1.38846,1.38712,1.3819,1.38758,1.38906,1.38909,1.38938,1.38934,1.3898,1.39078,1.3875,1.3964,1.39693,1.39522,1.39562,1.39445,1.39324,1.39237,1.39074,1.39223,1.39514,1.389,1.38734,1.38692,1.38295,1.38486,1.38653,1.38457,1.3859,1.38636,1.38502,1.38341,1.3811,1.3793,1.37738,1.37521,1.37343,1.37126,1.3694,1.37174,1.3719,1.36871,1.36971,1.36986,1.36834,1.37079,1.37323,1.37339,1.37504,1.37585,1.37686,1.37674,1.37888,1.37925,1.37748,1.37731,1.381,1.38227,1.37778,1.37624,1.37688,1.37812,1.37726,1.3739,1.37187,1.37411,1.37432,1.37265,1.37828,1.37678,1.38002,1.37828,1.37886,1.37674,1.3776,1.37914,1.38187,1.38333,1.38418,1.38456,1.38358,1.38338,1.38215,1.38354,1.38294,1.38275,1.38618,1.3877,1.39024,1.39015,1.39034,1.39058,1.38545,1.38402,1.38218,1.38246,1.38338,1.38306,1.38308,1.37614],\"decreasing\":{\"fillcolor\":\"#cc2e3c\",\"line\":{\"color\":\"#ff3a4c\"}},\"high\":[1.39059,1.38943,1.38756,1.38828,1.39011,1.39061,1.39056,1.38982,1.39296,1.3924,1.3912,1.39712,1.39776,1.39722,1.40014,1.3994,1.39526,1.39514,1.39338,1.39258,1.39568,1.39592,1.38898,1.38863,1.38474,1.38542,1.3872,1.38769,1.38656,1.38715,1.38665,1.3854,1.3853,1.38138,1.38006,1.37805,1.37593,1.37396,1.37226,1.37331,1.37334,1.37214,1.36974,1.37084,1.37044,1.3731,1.37414,1.37456,1.37578,1.37657,1.37863,1.37916,1.38124,1.37998,1.38056,1.37898,1.38372,1.38468,1.38378,1.37816,1.37763,1.37814,1.37836,1.37792,1.37548,1.37425,1.37522,1.3746,1.37834,1.3795,1.3812,1.38086,1.37902,1.37907,1.37962,1.37958,1.38365,1.38361,1.38456,1.38502,1.38525,1.38426,1.38339,1.38426,1.38359,1.38429,1.38687,1.38802,1.39136,1.39076,1.39156,1.39082,1.39188,1.38589,1.38663,1.38346,1.38349,1.384,1.38318,1.3838],\"increasing\":{\"fillcolor\":\"#24a06b\",\"line\":{\"color\":\"#2ec886\"}},\"line\":{\"width\":1},\"low\":[1.38836,1.38657,1.3816,1.3809,1.38695,1.38882,1.38887,1.38786,1.38782,1.38868,1.38672,1.38512,1.39507,1.39356,1.39455,1.39216,1.38976,1.39151,1.39012,1.38924,1.39064,1.38786,1.38304,1.38589,1.38275,1.38179,1.38364,1.38404,1.38211,1.38544,1.38446,1.38336,1.3802,1.37517,1.3769,1.37407,1.3724,1.37042,1.36741,1.36908,1.36962,1.368,1.36798,1.36796,1.36706,1.36787,1.3706,1.37248,1.37308,1.37465,1.37423,1.37514,1.37666,1.37761,1.3771,1.37658,1.37566,1.38077,1.37648,1.37556,1.3759,1.37602,1.37422,1.37301,1.37062,1.37136,1.37344,1.37186,1.37166,1.37546,1.37595,1.37766,1.37747,1.37653,1.3746,1.37585,1.3791,1.38179,1.38312,1.38339,1.3833,1.38128,1.38143,1.38159,1.38178,1.38266,1.38132,1.38534,1.38734,1.38994,1.38978,1.38897,1.38389,1.38178,1.38198,1.38022,1.382,1.382,1.37726,1.3756],\"opacity\":1,\"open\":[1.39001,1.38844,1.3871,1.38192,1.38756,1.38908,1.38917,1.38934,1.38931,1.38982,1.39076,1.38753,1.39663,1.39696,1.3952,1.39566,1.39442,1.39327,1.39296,1.3907,1.3922,1.39512,1.38896,1.38732,1.38384,1.38292,1.38482,1.38658,1.38453,1.38592,1.38636,1.385,1.38339,1.38108,1.37932,1.37736,1.37531,1.37345,1.37124,1.36942,1.37172,1.37187,1.36871,1.36974,1.36988,1.36831,1.37076,1.3732,1.37331,1.37502,1.37588,1.37683,1.37672,1.3789,1.37956,1.3775,1.37733,1.38103,1.38225,1.37782,1.37652,1.3769,1.37814,1.37723,1.37387,1.37184,1.37344,1.37434,1.37262,1.37824,1.37676,1.38,1.37803,1.37888,1.37671,1.37762,1.37917,1.3819,1.38326,1.38416,1.38458,1.38354,1.38336,1.38218,1.3826,1.38291,1.38272,1.38616,1.38772,1.39028,1.38996,1.39031,1.39056,1.38543,1.38404,1.38216,1.38222,1.3834,1.38308,1.38304],\"x\":[\"s21-03-15 21:00\",\"s21-03-16 01:00\",\"s21-03-16 05:00\",\"s21-03-16 09:00\",\"s21-03-16 13:00\",\"s21-03-16 17:00\",\"s21-03-16 21:00\",\"s21-03-17 01:00\",\"s21-03-17 05:00\",\"s21-03-17 09:00\",\"s21-03-17 13:00\",\"s21-03-17 17:00\",\"s21-03-17 21:00\",\"s21-03-18 01:00\",\"s21-03-18 05:00\",\"s21-03-18 09:00\",\"s21-03-18 13:00\",\"s21-03-18 17:00\",\"s21-03-18 21:00\",\"s21-03-19 01:00\",\"s21-03-19 05:00\",\"s21-03-19 09:00\",\"s21-03-19 13:00\",\"s21-03-19 17:00\",\"s21-03-21 21:00\",\"s21-03-22 01:00\",\"s21-03-22 05:00\",\"s21-03-22 09:00\",\"s21-03-22 13:00\",\"s21-03-22 17:00\",\"s21-03-22 21:00\",\"s21-03-23 01:00\",\"s21-03-23 05:00\",\"s21-03-23 09:00\",\"s21-03-23 13:00\",\"s21-03-23 17:00\",\"s21-03-23 21:00\",\"s21-03-24 01:00\",\"s21-03-24 05:00\",\"s21-03-24 09:00\",\"s21-03-24 13:00\",\"s21-03-24 17:00\",\"s21-03-24 21:00\",\"s21-03-25 01:00\",\"s21-03-25 05:00\",\"s21-03-25 09:00\",\"s21-03-25 13:00\",\"s21-03-25 17:00\",\"s21-03-25 21:00\",\"s21-03-26 01:00\",\"s21-03-26 05:00\",\"s21-03-26 09:00\",\"s21-03-26 13:00\",\"s21-03-26 17:00\",\"s21-03-28 21:00\",\"s21-03-29 01:00\",\"s21-03-29 05:00\",\"s21-03-29 09:00\",\"s21-03-29 13:00\",\"s21-03-29 17:00\",\"s21-03-29 21:00\",\"s21-03-30 01:00\",\"s21-03-30 05:00\",\"s21-03-30 09:00\",\"s21-03-30 13:00\",\"s21-03-30 17:00\",\"s21-03-30 21:00\",\"s21-03-31 01:00\",\"s21-03-31 05:00\",\"s21-03-31 09:00\",\"s21-03-31 13:00\",\"s21-03-31 17:00\",\"s21-03-31 21:00\",\"s21-04-01 01:00\",\"s21-04-01 05:00\",\"s21-04-01 09:00\",\"s21-04-01 13:00\",\"s21-04-01 17:00\",\"s21-04-01 21:00\",\"s21-04-02 01:00\",\"s21-04-02 05:00\",\"s21-04-02 09:00\",\"s21-04-02 13:00\",\"s21-04-02 17:00\",\"s21-04-04 21:00\",\"s21-04-05 01:00\",\"s21-04-05 05:00\",\"s21-04-05 09:00\",\"s21-04-05 13:00\",\"s21-04-05 17:00\",\"s21-04-05 21:00\",\"s21-04-06 01:00\",\"s21-04-06 05:00\",\"s21-04-06 09:00\",\"s21-04-06 13:00\",\"s21-04-06 17:00\",\"s21-04-06 21:00\",\"s21-04-07 01:00\",\"s21-04-07 05:00\",\"s21-04-07 09:00\"],\"type\":\"candlestick\"}],                        {\"template\":{\"data\":{\"histogram2dcontour\":[{\"type\":\"histogram2dcontour\",\"colorbar\":{\"outlinewidth\":0,\"ticks\":\"\"},\"colorscale\":[[0.0,\"#0d0887\"],[0.1111111111111111,\"#46039f\"],[0.2222222222222222,\"#7201a8\"],[0.3333333333333333,\"#9c179e\"],[0.4444444444444444,\"#bd3786\"],[0.5555555555555556,\"#d8576b\"],[0.6666666666666666,\"#ed7953\"],[0.7777777777777778,\"#fb9f3a\"],[0.8888888888888888,\"#fdca26\"],[1.0,\"#f0f921\"]]}],\"choropleth\":[{\"type\":\"choropleth\",\"colorbar\":{\"outlinewidth\":0,\"ticks\":\"\"}}],\"histogram2d\":[{\"type\":\"histogram2d\",\"colorbar\":{\"outlinewidth\":0,\"ticks\":\"\"},\"colorscale\":[[0.0,\"#0d0887\"],[0.1111111111111111,\"#46039f\"],[0.2222222222222222,\"#7201a8\"],[0.3333333333333333,\"#9c179e\"],[0.4444444444444444,\"#bd3786\"],[0.5555555555555556,\"#d8576b\"],[0.6666666666666666,\"#ed7953\"],[0.7777777777777778,\"#fb9f3a\"],[0.8888888888888888,\"#fdca26\"],[1.0,\"#f0f921\"]]}],\"heatmap\":[{\"type\":\"heatmap\",\"colorbar\":{\"outlinewidth\":0,\"ticks\":\"\"},\"colorscale\":[[0.0,\"#0d0887\"],[0.1111111111111111,\"#46039f\"],[0.2222222222222222,\"#7201a8\"],[0.3333333333333333,\"#9c179e\"],[0.4444444444444444,\"#bd3786\"],[0.5555555555555556,\"#d8576b\"],[0.6666666666666666,\"#ed7953\"],[0.7777777777777778,\"#fb9f3a\"],[0.8888888888888888,\"#fdca26\"],[1.0,\"#f0f921\"]]}],\"heatmapgl\":[{\"type\":\"heatmapgl\",\"colorbar\":{\"outlinewidth\":0,\"ticks\":\"\"},\"colorscale\":[[0.0,\"#0d0887\"],[0.1111111111111111,\"#46039f\"],[0.2222222222222222,\"#7201a8\"],[0.3333333333333333,\"#9c179e\"],[0.4444444444444444,\"#bd3786\"],[0.5555555555555556,\"#d8576b\"],[0.6666666666666666,\"#ed7953\"],[0.7777777777777778,\"#fb9f3a\"],[0.8888888888888888,\"#fdca26\"],[1.0,\"#f0f921\"]]}],\"contourcarpet\":[{\"type\":\"contourcarpet\",\"colorbar\":{\"outlinewidth\":0,\"ticks\":\"\"}}],\"contour\":[{\"type\":\"contour\",\"colorbar\":{\"outlinewidth\":0,\"ticks\":\"\"},\"colorscale\":[[0.0,\"#0d0887\"],[0.1111111111111111,\"#46039f\"],[0.2222222222222222,\"#7201a8\"],[0.3333333333333333,\"#9c179e\"],[0.4444444444444444,\"#bd3786\"],[0.5555555555555556,\"#d8576b\"],[0.6666666666666666,\"#ed7953\"],[0.7777777777777778,\"#fb9f3a\"],[0.8888888888888888,\"#fdca26\"],[1.0,\"#f0f921\"]]}],\"surface\":[{\"type\":\"surface\",\"colorbar\":{\"outlinewidth\":0,\"ticks\":\"\"},\"colorscale\":[[0.0,\"#0d0887\"],[0.1111111111111111,\"#46039f\"],[0.2222222222222222,\"#7201a8\"],[0.3333333333333333,\"#9c179e\"],[0.4444444444444444,\"#bd3786\"],[0.5555555555555556,\"#d8576b\"],[0.6666666666666666,\"#ed7953\"],[0.7777777777777778,\"#fb9f3a\"],[0.8888888888888888,\"#fdca26\"],[1.0,\"#f0f921\"]]}],\"mesh3d\":[{\"type\":\"mesh3d\",\"colorbar\":{\"outlinewidth\":0,\"ticks\":\"\"}}],\"scatter\":[{\"fillpattern\":{\"fillmode\":\"overlay\",\"size\":10,\"solidity\":0.2},\"type\":\"scatter\"}],\"parcoords\":[{\"type\":\"parcoords\",\"line\":{\"colorbar\":{\"outlinewidth\":0,\"ticks\":\"\"}}}],\"scatterpolargl\":[{\"type\":\"scatterpolargl\",\"marker\":{\"colorbar\":{\"outlinewidth\":0,\"ticks\":\"\"}}}],\"bar\":[{\"error_x\":{\"color\":\"#2a3f5f\"},\"error_y\":{\"color\":\"#2a3f5f\"},\"marker\":{\"line\":{\"color\":\"#E5ECF6\",\"width\":0.5},\"pattern\":{\"fillmode\":\"overlay\",\"size\":10,\"solidity\":0.2}},\"type\":\"bar\"}],\"scattergeo\":[{\"type\":\"scattergeo\",\"marker\":{\"colorbar\":{\"outlinewidth\":0,\"ticks\":\"\"}}}],\"scatterpolar\":[{\"type\":\"scatterpolar\",\"marker\":{\"colorbar\":{\"outlinewidth\":0,\"ticks\":\"\"}}}],\"histogram\":[{\"marker\":{\"pattern\":{\"fillmode\":\"overlay\",\"size\":10,\"solidity\":0.2}},\"type\":\"histogram\"}],\"scattergl\":[{\"type\":\"scattergl\",\"marker\":{\"colorbar\":{\"outlinewidth\":0,\"ticks\":\"\"}}}],\"scatter3d\":[{\"type\":\"scatter3d\",\"line\":{\"colorbar\":{\"outlinewidth\":0,\"ticks\":\"\"}},\"marker\":{\"colorbar\":{\"outlinewidth\":0,\"ticks\":\"\"}}}],\"scattermapbox\":[{\"type\":\"scattermapbox\",\"marker\":{\"colorbar\":{\"outlinewidth\":0,\"ticks\":\"\"}}}],\"scatterternary\":[{\"type\":\"scatterternary\",\"marker\":{\"colorbar\":{\"outlinewidth\":0,\"ticks\":\"\"}}}],\"scattercarpet\":[{\"type\":\"scattercarpet\",\"marker\":{\"colorbar\":{\"outlinewidth\":0,\"ticks\":\"\"}}}],\"carpet\":[{\"aaxis\":{\"endlinecolor\":\"#2a3f5f\",\"gridcolor\":\"white\",\"linecolor\":\"white\",\"minorgridcolor\":\"white\",\"startlinecolor\":\"#2a3f5f\"},\"baxis\":{\"endlinecolor\":\"#2a3f5f\",\"gridcolor\":\"white\",\"linecolor\":\"white\",\"minorgridcolor\":\"white\",\"startlinecolor\":\"#2a3f5f\"},\"type\":\"carpet\"}],\"table\":[{\"cells\":{\"fill\":{\"color\":\"#EBF0F8\"},\"line\":{\"color\":\"white\"}},\"header\":{\"fill\":{\"color\":\"#C8D4E3\"},\"line\":{\"color\":\"white\"}},\"type\":\"table\"}],\"barpolar\":[{\"marker\":{\"line\":{\"color\":\"#E5ECF6\",\"width\":0.5},\"pattern\":{\"fillmode\":\"overlay\",\"size\":10,\"solidity\":0.2}},\"type\":\"barpolar\"}],\"pie\":[{\"automargin\":true,\"type\":\"pie\"}]},\"layout\":{\"autotypenumbers\":\"strict\",\"colorway\":[\"#636efa\",\"#EF553B\",\"#00cc96\",\"#ab63fa\",\"#FFA15A\",\"#19d3f3\",\"#FF6692\",\"#B6E880\",\"#FF97FF\",\"#FECB52\"],\"font\":{\"color\":\"#2a3f5f\"},\"hovermode\":\"closest\",\"hoverlabel\":{\"align\":\"left\"},\"paper_bgcolor\":\"white\",\"plot_bgcolor\":\"#E5ECF6\",\"polar\":{\"bgcolor\":\"#E5ECF6\",\"angularaxis\":{\"gridcolor\":\"white\",\"linecolor\":\"white\",\"ticks\":\"\"},\"radialaxis\":{\"gridcolor\":\"white\",\"linecolor\":\"white\",\"ticks\":\"\"}},\"ternary\":{\"bgcolor\":\"#E5ECF6\",\"aaxis\":{\"gridcolor\":\"white\",\"linecolor\":\"white\",\"ticks\":\"\"},\"baxis\":{\"gridcolor\":\"white\",\"linecolor\":\"white\",\"ticks\":\"\"},\"caxis\":{\"gridcolor\":\"white\",\"linecolor\":\"white\",\"ticks\":\"\"}},\"coloraxis\":{\"colorbar\":{\"outlinewidth\":0,\"ticks\":\"\"}},\"colorscale\":{\"sequential\":[[0.0,\"#0d0887\"],[0.1111111111111111,\"#46039f\"],[0.2222222222222222,\"#7201a8\"],[0.3333333333333333,\"#9c179e\"],[0.4444444444444444,\"#bd3786\"],[0.5555555555555556,\"#d8576b\"],[0.6666666666666666,\"#ed7953\"],[0.7777777777777778,\"#fb9f3a\"],[0.8888888888888888,\"#fdca26\"],[1.0,\"#f0f921\"]],\"sequentialminus\":[[0.0,\"#0d0887\"],[0.1111111111111111,\"#46039f\"],[0.2222222222222222,\"#7201a8\"],[0.3333333333333333,\"#9c179e\"],[0.4444444444444444,\"#bd3786\"],[0.5555555555555556,\"#d8576b\"],[0.6666666666666666,\"#ed7953\"],[0.7777777777777778,\"#fb9f3a\"],[0.8888888888888888,\"#fdca26\"],[1.0,\"#f0f921\"]],\"diverging\":[[0,\"#8e0152\"],[0.1,\"#c51b7d\"],[0.2,\"#de77ae\"],[0.3,\"#f1b6da\"],[0.4,\"#fde0ef\"],[0.5,\"#f7f7f7\"],[0.6,\"#e6f5d0\"],[0.7,\"#b8e186\"],[0.8,\"#7fbc41\"],[0.9,\"#4d9221\"],[1,\"#276419\"]]},\"xaxis\":{\"gridcolor\":\"white\",\"linecolor\":\"white\",\"ticks\":\"\",\"title\":{\"standoff\":15},\"zerolinecolor\":\"white\",\"automargin\":true,\"zerolinewidth\":2},\"yaxis\":{\"gridcolor\":\"white\",\"linecolor\":\"white\",\"ticks\":\"\",\"title\":{\"standoff\":15},\"zerolinecolor\":\"white\",\"automargin\":true,\"zerolinewidth\":2},\"scene\":{\"xaxis\":{\"backgroundcolor\":\"#E5ECF6\",\"gridcolor\":\"white\",\"linecolor\":\"white\",\"showbackground\":true,\"ticks\":\"\",\"zerolinecolor\":\"white\",\"gridwidth\":2},\"yaxis\":{\"backgroundcolor\":\"#E5ECF6\",\"gridcolor\":\"white\",\"linecolor\":\"white\",\"showbackground\":true,\"ticks\":\"\",\"zerolinecolor\":\"white\",\"gridwidth\":2},\"zaxis\":{\"backgroundcolor\":\"#E5ECF6\",\"gridcolor\":\"white\",\"linecolor\":\"white\",\"showbackground\":true,\"ticks\":\"\",\"zerolinecolor\":\"white\",\"gridwidth\":2}},\"shapedefaults\":{\"line\":{\"color\":\"#2a3f5f\"}},\"annotationdefaults\":{\"arrowcolor\":\"#2a3f5f\",\"arrowhead\":0,\"arrowwidth\":1},\"geo\":{\"bgcolor\":\"white\",\"landcolor\":\"#E5ECF6\",\"subunitcolor\":\"white\",\"showland\":true,\"showlakes\":true,\"lakecolor\":\"white\"},\"title\":{\"x\":0.05},\"mapbox\":{\"style\":\"light\"}}},\"yaxis\":{\"gridcolor\":\"#1f292f\"},\"xaxis\":{\"rangeslider\":{\"visible\":false},\"gridcolor\":\"#1f292f\",\"nticks\":7},\"margin\":{\"l\":10,\"r\":10,\"b\":20,\"t\":20},\"font\":{\"size\":10,\"color\":\"#e1e1e1\"},\"width\":1000,\"height\":600,\"paper_bgcolor\":\"#010114\",\"plot_bgcolor\":\"#010114\"},                        {\"responsive\": true}                    ).then(function(){\n",
       "                            \n",
       "var gd = document.getElementById('74a65e64-f132-45b0-b1fc-647cd68b26cc');\n",
       "var x = new MutationObserver(function (mutations, observer) {{\n",
       "        var display = window.getComputedStyle(gd).display;\n",
       "        if (!display || display === 'none') {{\n",
       "            console.log([gd, 'removed!']);\n",
       "            Plotly.purge(gd);\n",
       "            observer.disconnect();\n",
       "        }}\n",
       "}});\n",
       "\n",
       "// Listen for the removal of the full notebook cells\n",
       "var notebookContainer = gd.closest('#notebook-container');\n",
       "if (notebookContainer) {{\n",
       "    x.observe(notebookContainer, {childList: true});\n",
       "}}\n",
       "\n",
       "// Listen for the clearing of the current output cell\n",
       "var outputEl = gd.closest('.output');\n",
       "if (outputEl) {{\n",
       "    x.observe(outputEl, {childList: true});\n",
       "}}\n",
       "\n",
       "                        })                };                });            </script>        </div>"
      ]
     },
     "metadata": {},
     "output_type": "display_data"
    }
   ],
   "source": [
    "fig = go.Figure()\n",
    "\n",
    "fig.add_trace(go.Candlestick(\n",
    "    x=plot_df['s_time'],\n",
    "    open=plot_df['mid_o'],\n",
    "    high=plot_df['mid_h'],\n",
    "    low=plot_df['mid_l'],\n",
    "    close=plot_df['mid_c'],\n",
    "    line={'width': 1},\n",
    "    opacity=1,\n",
    "    increasing_fillcolor='#24a06b',\n",
    "    decreasing_fillcolor='#cc2e3c',\n",
    "    increasing_line_color='#2ec886',\n",
    "    decreasing_line_color='#ff3a4c'\n",
    "))\n",
    "\n",
    "fig.update_yaxes(\n",
    "    gridcolor='#1f292f'\n",
    ")\n",
    "\n",
    "fig.update_xaxes(\n",
    "    gridcolor='#1f292f',\n",
    "    rangeslider={'visible': False},\n",
    "    nticks=7\n",
    ")\n",
    "\n",
    "fig.update_layout(\n",
    "    width=1000,\n",
    "    height=600,\n",
    "    margin={'l': 10, 'r': 10, 'b': 20, 't': 20},\n",
    "    paper_bgcolor='#010114',\n",
    "    plot_bgcolor='#010114',\n",
    "    font={'size': 10, 'color': '#e1e1e1'}\n",
    ")\n",
    "\n",
    "fig.show()"
   ]
  },
  {
   "cell_type": "code",
   "execution_count": null,
   "id": "69902b6d-af51-465e-843b-80806913907f",
   "metadata": {},
   "outputs": [],
   "source": []
  }
 ],
 "metadata": {
  "kernelspec": {
   "display_name": "Python 3 (ipykernel)",
   "language": "python",
   "name": "python3"
  },
  "language_info": {
   "codemirror_mode": {
    "name": "ipython",
    "version": 3
   },
   "file_extension": ".py",
   "mimetype": "text/x-python",
   "name": "python",
   "nbconvert_exporter": "python",
   "pygments_lexer": "ipython3",
   "version": "3.12.3"
  }
 },
 "nbformat": 4,
 "nbformat_minor": 5
}
