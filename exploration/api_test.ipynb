{
 "cells": [
  {
   "cell_type": "code",
   "execution_count": 1,
   "id": "e378a699-8899-42cd-bc10-8957be61f092",
   "metadata": {},
   "outputs": [],
   "source": [
    "from dateutil import parser\n",
    "import requests\n",
    "import pandas as pd\n",
    "import json\n"
   ]
  },
  {
   "cell_type": "code",
   "execution_count": 2,
   "id": "8fe9dc48-2855-4cf3-9a4a-0a24ad48e84a",
   "metadata": {},
   "outputs": [],
   "source": [
    "API_KEY = 'eec6ddcc5fa2bc2115c3a9ae1069c5da-183f9c7dcc76b62a9a77824419b8538a'\n",
    "ACCOUNT_ID = '101-001-28743255-001'\n",
    "OANDA_URL = 'https://api-fxpractice.oanda.com/v3'"
   ]
  },
  {
   "cell_type": "code",
   "execution_count": 3,
   "id": "592f1820-91ae-4aaa-9f5c-0f942756ee7a",
   "metadata": {},
   "outputs": [],
   "source": [
    "session = requests.Session()"
   ]
  },
  {
   "cell_type": "code",
   "execution_count": 4,
   "id": "59fcfd9f-8bed-4df4-8609-86488236b908",
   "metadata": {},
   "outputs": [],
   "source": [
    "session.headers.update({\n",
    "    'Authorization':  f'Bearer {API_KEY}',\n",
    "    'Content-Type': 'application/json'\n",
    "})"
   ]
  },
  {
   "cell_type": "code",
   "execution_count": 5,
   "id": "883ebce6-2459-47fd-ac66-050237fffccd",
   "metadata": {},
   "outputs": [],
   "source": [
    "params = {\n",
    "    'count': 10,\n",
    "    'granularity': 'H1',\n",
    "    'price': 'MBA'\n",
    "}"
   ]
  },
  {
   "cell_type": "code",
   "execution_count": 6,
   "id": "00acbd33-5e7d-425f-b705-dbcdcb8a1f7a",
   "metadata": {},
   "outputs": [],
   "source": [
    "url = f'{OANDA_URL}/accounts/{ACCOUNT_ID}/instruments'"
   ]
  },
  {
   "cell_type": "code",
   "execution_count": 7,
   "id": "3895d56e-2faa-42dc-822b-4db0d21a8786",
   "metadata": {},
   "outputs": [],
   "source": [
    "response = session.get(url, params=None, data=None, headers=None)"
   ]
  },
  {
   "cell_type": "code",
   "execution_count": 8,
   "id": "caac672c-c519-4b82-bcf2-5fb0541aa21b",
   "metadata": {},
   "outputs": [
    {
     "data": {
      "text/plain": [
       "200"
      ]
     },
     "execution_count": 8,
     "metadata": {},
     "output_type": "execute_result"
    }
   ],
   "source": [
    "response.status_code"
   ]
  },
  {
   "cell_type": "code",
   "execution_count": 9,
   "id": "c6de6eeb-f16b-4dc0-a870-d4ba4781b97b",
   "metadata": {},
   "outputs": [],
   "source": [
    "data = response.json()"
   ]
  },
  {
   "cell_type": "code",
   "execution_count": 10,
   "id": "5d7f4f70-bafb-472c-aec6-b4b253208b2f",
   "metadata": {},
   "outputs": [],
   "source": [
    "instruments_list = data['instruments']"
   ]
  },
  {
   "cell_type": "code",
   "execution_count": 11,
   "id": "e31cd5f9-d89d-48f8-8dfa-4e46eaa1fa3d",
   "metadata": {},
   "outputs": [
    {
     "data": {
      "text/plain": [
       "68"
      ]
     },
     "execution_count": 11,
     "metadata": {},
     "output_type": "execute_result"
    }
   ],
   "source": [
    "len(instruments_list)"
   ]
  },
  {
   "cell_type": "code",
   "execution_count": 12,
   "id": "29b169d5-b1b0-4e52-919e-66c6fccd5706",
   "metadata": {},
   "outputs": [
    {
     "data": {
      "text/plain": [
       "dict_keys(['name', 'type', 'displayName', 'pipLocation', 'displayPrecision', 'tradeUnitsPrecision', 'minimumTradeSize', 'maximumTrailingStopDistance', 'minimumTrailingStopDistance', 'maximumPositionSize', 'maximumOrderUnits', 'marginRate', 'guaranteedStopLossOrderMode', 'tags', 'financing'])"
      ]
     },
     "execution_count": 12,
     "metadata": {},
     "output_type": "execute_result"
    }
   ],
   "source": [
    "instruments_list[0].keys()"
   ]
  },
  {
   "cell_type": "code",
   "execution_count": 13,
   "id": "1b24f40e-0e6d-4582-a6b3-17d5ddaed5e5",
   "metadata": {},
   "outputs": [],
   "source": [
    "instruments_keys = ['name', 'type', 'displayName', 'pipLocation', 'displayPrecision', 'tradeUnitsPrecision', 'marginRate']"
   ]
  },
  {
   "cell_type": "code",
   "execution_count": 14,
   "id": "30e09d1a-77be-4630-8d71-3b60e4cc402a",
   "metadata": {},
   "outputs": [],
   "source": [
    "instruments_dict = {}\n",
    "\n",
    "for instr in instruments_list:\n",
    "    instruments_dict[instr['name']] = {key:instr[key] for key in instruments_keys}\n"
   ]
  },
  {
   "cell_type": "code",
   "execution_count": 15,
   "id": "5634d763-46b5-4778-9fd0-95cf35ae4159",
   "metadata": {},
   "outputs": [
    {
     "data": {
      "text/plain": [
       "{'name': 'GBP_USD',\n",
       " 'type': 'CURRENCY',\n",
       " 'displayName': 'GBP/USD',\n",
       " 'pipLocation': -4,\n",
       " 'displayPrecision': 5,\n",
       " 'tradeUnitsPrecision': 0,\n",
       " 'marginRate': '0.05'}"
      ]
     },
     "execution_count": 15,
     "metadata": {},
     "output_type": "execute_result"
    }
   ],
   "source": [
    "instruments_dict['GBP_USD']"
   ]
  },
  {
   "cell_type": "code",
   "execution_count": 16,
   "id": "f48410bc-c075-439c-b490-1104858ee305",
   "metadata": {},
   "outputs": [],
   "source": [
    "with open('../data/instruments.json', 'w') as file:\n",
    "    file.write(json.dumps(instruments_dict, indent=2))\n",
    "    "
   ]
  },
  {
   "cell_type": "code",
   "execution_count": 26,
   "id": "b82c6bd6-fc14-458e-99fd-a081fa86543f",
   "metadata": {},
   "outputs": [],
   "source": [
    "def fetch_candles(pair, count=10, granularity='H1'):\n",
    "    url = f'{OANDA_URL}/instruments/{pair}/candles'\n",
    "    \n",
    "    params = {\n",
    "        'count': count,\n",
    "        'granularity': granularity,\n",
    "        'price': 'MBA'\n",
    "    }\n",
    "\n",
    "    response = session.get(url, params=params, data=None, headers=None)\n",
    "    data = response.json()\n",
    "\n",
    "    if response.status_code == 200:\n",
    "        if 'candles' not in data:\n",
    "            data = []\n",
    "        else:\n",
    "            data = data['candles']\n",
    "\n",
    "    return response.status_code, data\n"
   ]
  },
  {
   "cell_type": "code",
   "execution_count": 27,
   "id": "ee4026e9-4e6d-4cff-8d03-e116f3bd5805",
   "metadata": {},
   "outputs": [],
   "source": [
    "def get_candles_df(data):\n",
    "    if len(data) == 0:\n",
    "        return pd.DataFrame()\n",
    "    \n",
    "    final_data = []\n",
    "    \n",
    "    prices = ['mid', 'bid', 'ask']\n",
    "    ohlc = ['o', 'h', 'l', 'c']\n",
    "    \n",
    "    for candle in data:\n",
    "        new_dict = {}\n",
    "    \n",
    "        if candle['complete'] is True:\n",
    "            new_dict['time'] = parser.parse(candle['time'])\n",
    "            new_dict['volume'] = candle['volume']\n",
    "    \n",
    "            for price in prices:\n",
    "                for o in ohlc:\n",
    "                    new_dict[f'{price}_{o}'] = float(candle[price][o])\n",
    "            \n",
    "            final_data.append(new_dict)\n",
    "        else:\n",
    "            continue\n",
    "        \n",
    "    final_data_df = pd.DataFrame.from_dict(data=final_data)\n",
    "    return final_data_df\n"
   ]
  },
  {
   "cell_type": "code",
   "execution_count": 42,
   "id": "95fb864e-c0ea-4798-8ce4-0ffae82f2105",
   "metadata": {},
   "outputs": [],
   "source": [
    "def create_data_file(pair, count=10, granularity='H1'):\n",
    "    status_code, data = fetch_candles(pair, count, granularity)\n",
    "\n",
    "    assert status_code == 200, f'Failed {pair} - {data}'\n",
    "    assert len(data) > 0, f'No candles {pair}'\n",
    "\n",
    "    candles_df = get_candles_df(data)\n",
    "    candles_df.to_pickle(f'../data/{pair}_{granularity}.pkl')\n",
    "    \n",
    "    print(f'{pair} - {granularity} - {candles_df.shape[0]} candles - {candles_df['time'].min()} - {candles_df['time'].max()}')\n"
   ]
  },
  {
   "cell_type": "code",
   "execution_count": 28,
   "id": "52634346-e8fc-4aba-8ce9-e5642703b70d",
   "metadata": {},
   "outputs": [],
   "source": [
    "status_code, data = fetch_candles('GBP_USD', count=7, granularity='H4')"
   ]
  },
  {
   "cell_type": "code",
   "execution_count": 33,
   "id": "1d05f211-bdf6-41d6-9f37-4ce9ed4aed26",
   "metadata": {},
   "outputs": [
    {
     "data": {
      "text/plain": [
       "200"
      ]
     },
     "execution_count": 33,
     "metadata": {},
     "output_type": "execute_result"
    }
   ],
   "source": [
    "status_code"
   ]
  },
  {
   "cell_type": "code",
   "execution_count": 32,
   "id": "6ab07b56-26fb-4b5c-ada8-d2d62e21a85d",
   "metadata": {},
   "outputs": [],
   "source": [
    "candles_df = get_candles_df(data)"
   ]
  },
  {
   "cell_type": "code",
   "execution_count": 30,
   "id": "0f1424c0-ebae-4e01-847c-f3bfb3315884",
   "metadata": {},
   "outputs": [
    {
     "data": {
      "text/plain": [
       "7"
      ]
     },
     "execution_count": 30,
     "metadata": {},
     "output_type": "execute_result"
    }
   ],
   "source": [
    "len(data)"
   ]
  },
  {
   "cell_type": "code",
   "execution_count": 31,
   "id": "732bfca0-8cd8-42a0-babe-dfd58d4d69a0",
   "metadata": {},
   "outputs": [
    {
     "data": {
      "text/plain": [
       "{'complete': True,\n",
       " 'volume': 10886,\n",
       " 'time': '2024-05-28T01:00:00.000000000Z',\n",
       " 'bid': {'o': '1.27701', 'h': '1.27826', 'l': '1.27695', 'c': '1.27740'},\n",
       " 'mid': {'o': '1.27710', 'h': '1.27835', 'l': '1.27704', 'c': '1.27748'},\n",
       " 'ask': {'o': '1.27719', 'h': '1.27844', 'l': '1.27714', 'c': '1.27755'}}"
      ]
     },
     "execution_count": 31,
     "metadata": {},
     "output_type": "execute_result"
    }
   ],
   "source": [
    "data[0]"
   ]
  },
  {
   "cell_type": "code",
   "execution_count": 34,
   "id": "6a3fd906-b56c-4a81-97a2-6e26907cab86",
   "metadata": {},
   "outputs": [
    {
     "name": "stdout",
     "output_type": "stream",
     "text": [
      "<class 'pandas.core.frame.DataFrame'>\n",
      "RangeIndex: 6 entries, 0 to 5\n",
      "Data columns (total 14 columns):\n",
      " #   Column  Non-Null Count  Dtype                  \n",
      "---  ------  --------------  -----                  \n",
      " 0   time    6 non-null      datetime64[ns, tzutc()]\n",
      " 1   volume  6 non-null      int64                  \n",
      " 2   mid_o   6 non-null      float64                \n",
      " 3   mid_h   6 non-null      float64                \n",
      " 4   mid_l   6 non-null      float64                \n",
      " 5   mid_c   6 non-null      float64                \n",
      " 6   bid_o   6 non-null      float64                \n",
      " 7   bid_h   6 non-null      float64                \n",
      " 8   bid_l   6 non-null      float64                \n",
      " 9   bid_c   6 non-null      float64                \n",
      " 10  ask_o   6 non-null      float64                \n",
      " 11  ask_h   6 non-null      float64                \n",
      " 12  ask_l   6 non-null      float64                \n",
      " 13  ask_c   6 non-null      float64                \n",
      "dtypes: datetime64[ns, tzutc()](1), float64(12), int64(1)\n",
      "memory usage: 804.0 bytes\n"
     ]
    }
   ],
   "source": [
    "candles_df.info(verbose=True)"
   ]
  },
  {
   "cell_type": "code",
   "execution_count": 35,
   "id": "f286ec77-08ab-48fc-b10c-490b16db382a",
   "metadata": {},
   "outputs": [
    {
     "data": {
      "text/html": [
       "<div>\n",
       "<style scoped>\n",
       "    .dataframe tbody tr th:only-of-type {\n",
       "        vertical-align: middle;\n",
       "    }\n",
       "\n",
       "    .dataframe tbody tr th {\n",
       "        vertical-align: top;\n",
       "    }\n",
       "\n",
       "    .dataframe thead th {\n",
       "        text-align: right;\n",
       "    }\n",
       "</style>\n",
       "<table border=\"1\" class=\"dataframe\">\n",
       "  <thead>\n",
       "    <tr style=\"text-align: right;\">\n",
       "      <th></th>\n",
       "      <th>time</th>\n",
       "      <th>volume</th>\n",
       "      <th>mid_o</th>\n",
       "      <th>mid_h</th>\n",
       "      <th>mid_l</th>\n",
       "      <th>mid_c</th>\n",
       "      <th>bid_o</th>\n",
       "      <th>bid_h</th>\n",
       "      <th>bid_l</th>\n",
       "      <th>bid_c</th>\n",
       "      <th>ask_o</th>\n",
       "      <th>ask_h</th>\n",
       "      <th>ask_l</th>\n",
       "      <th>ask_c</th>\n",
       "    </tr>\n",
       "  </thead>\n",
       "  <tbody>\n",
       "    <tr>\n",
       "      <th>0</th>\n",
       "      <td>2024-05-28 01:00:00+00:00</td>\n",
       "      <td>10886</td>\n",
       "      <td>1.27710</td>\n",
       "      <td>1.27835</td>\n",
       "      <td>1.27704</td>\n",
       "      <td>1.27748</td>\n",
       "      <td>1.27701</td>\n",
       "      <td>1.27826</td>\n",
       "      <td>1.27695</td>\n",
       "      <td>1.27740</td>\n",
       "      <td>1.27719</td>\n",
       "      <td>1.27844</td>\n",
       "      <td>1.27714</td>\n",
       "      <td>1.27755</td>\n",
       "    </tr>\n",
       "    <tr>\n",
       "      <th>1</th>\n",
       "      <td>2024-05-28 05:00:00+00:00</td>\n",
       "      <td>13138</td>\n",
       "      <td>1.27747</td>\n",
       "      <td>1.27812</td>\n",
       "      <td>1.27626</td>\n",
       "      <td>1.27690</td>\n",
       "      <td>1.27738</td>\n",
       "      <td>1.27804</td>\n",
       "      <td>1.27618</td>\n",
       "      <td>1.27681</td>\n",
       "      <td>1.27756</td>\n",
       "      <td>1.27820</td>\n",
       "      <td>1.27634</td>\n",
       "      <td>1.27698</td>\n",
       "    </tr>\n",
       "    <tr>\n",
       "      <th>2</th>\n",
       "      <td>2024-05-28 09:00:00+00:00</td>\n",
       "      <td>14400</td>\n",
       "      <td>1.27689</td>\n",
       "      <td>1.27948</td>\n",
       "      <td>1.27638</td>\n",
       "      <td>1.27924</td>\n",
       "      <td>1.27681</td>\n",
       "      <td>1.27938</td>\n",
       "      <td>1.27628</td>\n",
       "      <td>1.27916</td>\n",
       "      <td>1.27697</td>\n",
       "      <td>1.27957</td>\n",
       "      <td>1.27647</td>\n",
       "      <td>1.27931</td>\n",
       "    </tr>\n",
       "    <tr>\n",
       "      <th>3</th>\n",
       "      <td>2024-05-28 13:00:00+00:00</td>\n",
       "      <td>17628</td>\n",
       "      <td>1.27922</td>\n",
       "      <td>1.28008</td>\n",
       "      <td>1.27708</td>\n",
       "      <td>1.27766</td>\n",
       "      <td>1.27914</td>\n",
       "      <td>1.28001</td>\n",
       "      <td>1.27700</td>\n",
       "      <td>1.27758</td>\n",
       "      <td>1.27931</td>\n",
       "      <td>1.28016</td>\n",
       "      <td>1.27715</td>\n",
       "      <td>1.27774</td>\n",
       "    </tr>\n",
       "    <tr>\n",
       "      <th>4</th>\n",
       "      <td>2024-05-28 17:00:00+00:00</td>\n",
       "      <td>12899</td>\n",
       "      <td>1.27766</td>\n",
       "      <td>1.27782</td>\n",
       "      <td>1.27541</td>\n",
       "      <td>1.27619</td>\n",
       "      <td>1.27758</td>\n",
       "      <td>1.27773</td>\n",
       "      <td>1.27532</td>\n",
       "      <td>1.27610</td>\n",
       "      <td>1.27773</td>\n",
       "      <td>1.27790</td>\n",
       "      <td>1.27550</td>\n",
       "      <td>1.27628</td>\n",
       "    </tr>\n",
       "    <tr>\n",
       "      <th>5</th>\n",
       "      <td>2024-05-28 21:00:00+00:00</td>\n",
       "      <td>7012</td>\n",
       "      <td>1.27602</td>\n",
       "      <td>1.27660</td>\n",
       "      <td>1.27522</td>\n",
       "      <td>1.27542</td>\n",
       "      <td>1.27565</td>\n",
       "      <td>1.27632</td>\n",
       "      <td>1.27495</td>\n",
       "      <td>1.27534</td>\n",
       "      <td>1.27640</td>\n",
       "      <td>1.27731</td>\n",
       "      <td>1.27529</td>\n",
       "      <td>1.27549</td>\n",
       "    </tr>\n",
       "  </tbody>\n",
       "</table>\n",
       "</div>"
      ],
      "text/plain": [
       "                       time  volume    mid_o    mid_h    mid_l    mid_c  \\\n",
       "0 2024-05-28 01:00:00+00:00   10886  1.27710  1.27835  1.27704  1.27748   \n",
       "1 2024-05-28 05:00:00+00:00   13138  1.27747  1.27812  1.27626  1.27690   \n",
       "2 2024-05-28 09:00:00+00:00   14400  1.27689  1.27948  1.27638  1.27924   \n",
       "3 2024-05-28 13:00:00+00:00   17628  1.27922  1.28008  1.27708  1.27766   \n",
       "4 2024-05-28 17:00:00+00:00   12899  1.27766  1.27782  1.27541  1.27619   \n",
       "5 2024-05-28 21:00:00+00:00    7012  1.27602  1.27660  1.27522  1.27542   \n",
       "\n",
       "     bid_o    bid_h    bid_l    bid_c    ask_o    ask_h    ask_l    ask_c  \n",
       "0  1.27701  1.27826  1.27695  1.27740  1.27719  1.27844  1.27714  1.27755  \n",
       "1  1.27738  1.27804  1.27618  1.27681  1.27756  1.27820  1.27634  1.27698  \n",
       "2  1.27681  1.27938  1.27628  1.27916  1.27697  1.27957  1.27647  1.27931  \n",
       "3  1.27914  1.28001  1.27700  1.27758  1.27931  1.28016  1.27715  1.27774  \n",
       "4  1.27758  1.27773  1.27532  1.27610  1.27773  1.27790  1.27550  1.27628  \n",
       "5  1.27565  1.27632  1.27495  1.27534  1.27640  1.27731  1.27529  1.27549  "
      ]
     },
     "execution_count": 35,
     "metadata": {},
     "output_type": "execute_result"
    }
   ],
   "source": [
    "candles_df"
   ]
  },
  {
   "cell_type": "code",
   "execution_count": 43,
   "id": "5d432a5b-72c5-4646-920c-03064fd69cca",
   "metadata": {},
   "outputs": [
    {
     "name": "stdout",
     "output_type": "stream",
     "text": [
      "GBP_USD - H4 - 6 candles - 2024-05-28 01:00:00+00:00 - 2024-05-28 21:00:00+00:00\n"
     ]
    }
   ],
   "source": [
    "create_data_file('GBP_USD', count=7, granularity='H4')"
   ]
  },
  {
   "cell_type": "code",
   "execution_count": 45,
   "id": "ecd5f32c-52de-4e8f-939b-c35cb51571a6",
   "metadata": {},
   "outputs": [],
   "source": [
    "currencies = ['GBP', 'USD', 'CHF', 'AUD', 'SGD', 'NOK', 'EUR']"
   ]
  },
  {
   "cell_type": "code",
   "execution_count": 48,
   "id": "bf9d5198-c8f5-4b30-945f-813a82e0794c",
   "metadata": {},
   "outputs": [
    {
     "name": "stdout",
     "output_type": "stream",
     "text": [
      "GBP_USD - H1 - 4999 candles - 2023-08-08 17:00:00+00:00 - 2024-05-29 01:00:00+00:00\n",
      "GBP_USD - H4 - 4999 candles - 2021-03-15 21:00:00+00:00 - 2024-05-28 21:00:00+00:00\n",
      "GBP_CHF - H1 - 4999 candles - 2023-08-08 17:00:00+00:00 - 2024-05-29 01:00:00+00:00\n",
      "GBP_CHF - H4 - 4999 candles - 2021-03-15 21:00:00+00:00 - 2024-05-28 21:00:00+00:00\n",
      "GBP_AUD - H1 - 4999 candles - 2023-08-08 17:00:00+00:00 - 2024-05-29 01:00:00+00:00\n",
      "GBP_AUD - H4 - 4999 candles - 2021-03-15 21:00:00+00:00 - 2024-05-28 21:00:00+00:00\n",
      "GBP_SGD - H1 - 4999 candles - 2023-08-08 14:00:00+00:00 - 2024-05-29 01:00:00+00:00\n",
      "GBP_SGD - H4 - 4999 candles - 2021-03-15 21:00:00+00:00 - 2024-05-28 21:00:00+00:00\n",
      "USD_CHF - H1 - 4999 candles - 2023-08-08 17:00:00+00:00 - 2024-05-29 01:00:00+00:00\n",
      "USD_CHF - H4 - 4999 candles - 2021-03-15 21:00:00+00:00 - 2024-05-28 21:00:00+00:00\n",
      "USD_SGD - H1 - 4999 candles - 2023-08-08 17:00:00+00:00 - 2024-05-29 01:00:00+00:00\n",
      "USD_SGD - H4 - 4999 candles - 2021-03-15 21:00:00+00:00 - 2024-05-28 21:00:00+00:00\n",
      "USD_NOK - H1 - 4999 candles - 2023-08-08 11:00:00+00:00 - 2024-05-29 01:00:00+00:00\n",
      "USD_NOK - H4 - 4999 candles - 2021-03-15 17:00:00+00:00 - 2024-05-28 21:00:00+00:00\n",
      "AUD_USD - H1 - 4999 candles - 2023-08-08 17:00:00+00:00 - 2024-05-29 01:00:00+00:00\n",
      "AUD_USD - H4 - 4999 candles - 2021-03-15 21:00:00+00:00 - 2024-05-28 21:00:00+00:00\n",
      "AUD_CHF - H1 - 4999 candles - 2023-08-08 17:00:00+00:00 - 2024-05-29 01:00:00+00:00\n",
      "AUD_CHF - H4 - 4999 candles - 2021-03-15 17:00:00+00:00 - 2024-05-28 21:00:00+00:00\n",
      "AUD_SGD - H1 - 4999 candles - 2023-08-08 15:00:00+00:00 - 2024-05-29 01:00:00+00:00\n",
      "AUD_SGD - H4 - 4999 candles - 2021-03-15 21:00:00+00:00 - 2024-05-28 21:00:00+00:00\n",
      "SGD_CHF - H1 - 4999 candles - 2023-08-08 14:00:00+00:00 - 2024-05-29 01:00:00+00:00\n",
      "SGD_CHF - H4 - 4999 candles - 2021-03-15 21:00:00+00:00 - 2024-05-28 21:00:00+00:00\n",
      "EUR_GBP - H1 - 4999 candles - 2023-08-08 17:00:00+00:00 - 2024-05-29 01:00:00+00:00\n",
      "EUR_GBP - H4 - 4999 candles - 2021-03-15 21:00:00+00:00 - 2024-05-28 21:00:00+00:00\n",
      "EUR_USD - H1 - 4999 candles - 2023-08-08 17:00:00+00:00 - 2024-05-29 01:00:00+00:00\n",
      "EUR_USD - H4 - 4999 candles - 2021-03-15 21:00:00+00:00 - 2024-05-28 21:00:00+00:00\n",
      "EUR_CHF - H1 - 4999 candles - 2023-08-08 17:00:00+00:00 - 2024-05-29 01:00:00+00:00\n",
      "EUR_CHF - H4 - 4999 candles - 2021-03-15 21:00:00+00:00 - 2024-05-28 21:00:00+00:00\n",
      "EUR_AUD - H1 - 4999 candles - 2023-08-08 17:00:00+00:00 - 2024-05-29 01:00:00+00:00\n",
      "EUR_AUD - H4 - 4999 candles - 2021-03-15 21:00:00+00:00 - 2024-05-28 21:00:00+00:00\n",
      "EUR_SGD - H1 - 4999 candles - 2023-08-08 16:00:00+00:00 - 2024-05-29 01:00:00+00:00\n",
      "EUR_SGD - H4 - 4999 candles - 2021-03-15 21:00:00+00:00 - 2024-05-28 21:00:00+00:00\n",
      "EUR_NOK - H1 - 4999 candles - 2023-08-08 10:00:00+00:00 - 2024-05-29 01:00:00+00:00\n",
      "EUR_NOK - H4 - 4999 candles - 2021-03-15 21:00:00+00:00 - 2024-05-28 21:00:00+00:00\n"
     ]
    }
   ],
   "source": [
    "for curr_1 in currencies:\n",
    "    for curr_2 in currencies:\n",
    "        pair = f'{curr_1}_{curr_2}'\n",
    "        \n",
    "        if pair in instruments_dict:\n",
    "            for gran in ['H1', 'H4']:\n",
    "                create_data_file(pair=pair, count=5000, granularity=gran)"
   ]
  },
  {
   "cell_type": "code",
   "execution_count": null,
   "id": "a6cd97ce-903c-4a6e-be80-9b6cdf0f44cb",
   "metadata": {},
   "outputs": [],
   "source": []
  },
  {
   "cell_type": "code",
   "execution_count": null,
   "id": "8fa91ee2-0dbd-4b4b-88a1-9490658f6664",
   "metadata": {},
   "outputs": [],
   "source": []
  }
 ],
 "metadata": {
  "kernelspec": {
   "display_name": "Python 3 (ipykernel)",
   "language": "python",
   "name": "python3"
  },
  "language_info": {
   "codemirror_mode": {
    "name": "ipython",
    "version": 3
   },
   "file_extension": ".py",
   "mimetype": "text/x-python",
   "name": "python",
   "nbconvert_exporter": "python",
   "pygments_lexer": "ipython3",
   "version": "3.12.3"
  }
 },
 "nbformat": 4,
 "nbformat_minor": 5
}
